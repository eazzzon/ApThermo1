{
 "cells": [
  {
   "cell_type": "markdown",
   "metadata": {},
   "source": [
    "# pyAp - Calculating apatite-melt exchange coefficients (Kd) and melt water concentration "
   ]
  },
  {
   "cell_type": "markdown",
   "metadata": {},
   "source": [
    "pyAp includes the melt hygrometry model (ApThermo) of Li and Costa (2020, GCA) with equations provided in ```pyApThermo.py```.\n",
    "\n",
    "Applying this model requires known F, Cl (and H<sub>2</sub>O) concentrations in apatite, and the F and Cl concentration in the melt (in equilibrium with apatite). \n",
    "\n",
    "This example file includes error estimation for the calculated water estimates using a monte carlo simuation algorithm, which is not available in our ApThermo webpage or excel versions.  \n",
    "\n",
    "Please cite Li and Costa (2020) if you use this model:\n",
    "\n",
    " Li, W. & Costa, F. (2020) A thermodynamic model for F-Cl-OH partitioning between apatite and melt including non-ideal mixing and applications to constraining melt volatile budgets, Geochimica et Cosmochimica Acta 269, 203–222. https://doi.org/10.1016/j.gca.2019.10.035"
   ]
  },
  {
   "cell_type": "markdown",
   "metadata": {},
   "source": [
    "### 1. Import modules\n",
    "\n",
    "import releavant modules."
   ]
  },
  {
   "cell_type": "code",
   "execution_count": 37,
   "metadata": {},
   "outputs": [],
   "source": [
    "import os, sys\n",
    "# hack to allow scripts to be placed in subdirectories next to pyAp:\n",
    "if not os.path.exists('pyAp') and os.path.exists('../pyAp'):\n",
    "    sys.path.insert(1, os.path.abspath('..'))\n",
    "from pathlib import Path\n",
    "import math, random, pandas as pd, numpy as np, matplotlib.pyplot as plt, seaborn as sns\n",
    "import warnings    "
   ]
  },
  {
   "cell_type": "code",
   "execution_count": 38,
   "metadata": {},
   "outputs": [],
   "source": [
    "# Import pyAp modules\n",
    "from pyAp import pyApthermo\n",
    "from pyAp.pyAp_tools import ap_mc, load_animation"
   ]
  },
  {
   "cell_type": "markdown",
   "metadata": {},
   "source": [
    "### 2. Import data from the directory where the input data xlsx file is. The path identification method below works for mac, linux, windows.\n",
    "\n",
    "!! Do NOT change the column header names in the template provided in the \"input\" folder."
   ]
  },
  {
   "cell_type": "code",
   "execution_count": 39,
   "metadata": {},
   "outputs": [],
   "source": [
    "folder = Path(os.path.dirname(os.getcwd())+'/input/4ApThermo/')\n",
    "\n",
    "df = pd.read_excel(folder / 'calc_water.xlsx')"
   ]
  },
  {
   "cell_type": "markdown",
   "metadata": {},
   "source": [
    "extract parameters from the input data file by reading columm header names"
   ]
  },
  {
   "cell_type": "code",
   "execution_count": 40,
   "metadata": {},
   "outputs": [],
   "source": [
    "order  = ['XF', 'XCL', 'T,C', 'MELTF', 'MELTCL', 'MELTCOMP']\n",
    "\n",
    "data = df[order] "
   ]
  },
  {
   "cell_type": "markdown",
   "metadata": {},
   "source": [
    "### 3. calculate H<sub>2</sub>O in the melt from F and Cl in the apatite\n",
    "\n",
    "You can use the `apply()` function shown below for calculation using parameters in each row in the input DataFrame. \n",
    "\n",
    "To perform the calculation, we pass input data into the `Apthermo` class in ```pyApthermo.py``` (in pyAp folder). \n",
    "\n",
    "The water speciation model used in calculation is chosen from the available models according to the melt composition (\"MELTCOMPF\") provided by users. \n",
    "\n",
    "The available water speciation models we have compiled are available in \"pyAp/water_speciation.csv\" and also implemented in `pyApThermo.py`.\n",
    "\n",
    "If you would like to use another water speciation model, please contact us."
   ]
  },
  {
   "cell_type": "code",
   "execution_count": 41,
   "metadata": {},
   "outputs": [],
   "source": [
    "path = Path(os.path.dirname(os.getcwd())+'/pyAp/')\n",
    "wat_spe_m = pd.read_csv(path / 'water_speciation.csv')\n"
   ]
  },
  {
   "cell_type": "markdown",
   "metadata": {},
   "source": [
    "Note the melt compositions you put in your input data file for each crystal have to one of the names listed in the \"MeltComp\" column below. Otherwise, the calculation will take the default model for \"dacite\" of Liu et al 2004."
   ]
  },
  {
   "cell_type": "code",
   "execution_count": 42,
   "metadata": {},
   "outputs": [
    {
     "data": {
      "text/html": [
       "<div>\n",
       "<style scoped>\n",
       "    .dataframe tbody tr th:only-of-type {\n",
       "        vertical-align: middle;\n",
       "    }\n",
       "\n",
       "    .dataframe tbody tr th {\n",
       "        vertical-align: top;\n",
       "    }\n",
       "\n",
       "    .dataframe thead th {\n",
       "        text-align: right;\n",
       "    }\n",
       "</style>\n",
       "<table border=\"1\" class=\"dataframe\">\n",
       "  <thead>\n",
       "    <tr style=\"text-align: right;\">\n",
       "      <th></th>\n",
       "      <th>Ref</th>\n",
       "      <th>MeltComp</th>\n",
       "      <th>Pressure, GPa</th>\n",
       "      <th>Temperature, c</th>\n",
       "      <th>MeltH2O(WT)</th>\n",
       "      <th>a</th>\n",
       "      <th>b</th>\n",
       "      <th>(Eq. k2 = exp(a + b/T), T in K</th>\n",
       "    </tr>\n",
       "  </thead>\n",
       "  <tbody>\n",
       "    <tr>\n",
       "      <th>0</th>\n",
       "      <td>Liu et al 2004</td>\n",
       "      <td>dacite</td>\n",
       "      <td>NaN</td>\n",
       "      <td>NaN</td>\n",
       "      <td>1.5-2.5</td>\n",
       "      <td>1.490</td>\n",
       "      <td>-2634.0</td>\n",
       "      <td>NaN</td>\n",
       "    </tr>\n",
       "    <tr>\n",
       "      <th>1</th>\n",
       "      <td>Lasne et al 2010</td>\n",
       "      <td>alkali basalt</td>\n",
       "      <td>NaN</td>\n",
       "      <td>1200</td>\n",
       "      <td>01-Jul</td>\n",
       "      <td>0.641</td>\n",
       "      <td>-2704.4</td>\n",
       "      <td>NaN</td>\n",
       "    </tr>\n",
       "    <tr>\n",
       "      <th>2</th>\n",
       "      <td>Zhang et al 1997</td>\n",
       "      <td>rhyolite</td>\n",
       "      <td>NaN</td>\n",
       "      <td>400-600</td>\n",
       "      <td>≤2.4</td>\n",
       "      <td>1.876</td>\n",
       "      <td>-3100.0</td>\n",
       "      <td>NaN</td>\n",
       "    </tr>\n",
       "    <tr>\n",
       "      <th>3</th>\n",
       "      <td>Hui et al 2008</td>\n",
       "      <td>rhyolite_highP</td>\n",
       "      <td>1.0</td>\n",
       "      <td>350-750</td>\n",
       "      <td>NaN</td>\n",
       "      <td>1.804</td>\n",
       "      <td>-3090.0</td>\n",
       "      <td>NaN</td>\n",
       "    </tr>\n",
       "    <tr>\n",
       "      <th>4</th>\n",
       "      <td>Ni et al 2009</td>\n",
       "      <td>andesite</td>\n",
       "      <td>0.1</td>\n",
       "      <td>NaN</td>\n",
       "      <td>NaN</td>\n",
       "      <td>1.547</td>\n",
       "      <td>-2453.0</td>\n",
       "      <td>NaN</td>\n",
       "    </tr>\n",
       "    <tr>\n",
       "      <th>5</th>\n",
       "      <td>Botcharnikov 2006</td>\n",
       "      <td>andesite_highT</td>\n",
       "      <td>NaN</td>\n",
       "      <td>1100-1300</td>\n",
       "      <td>NaN</td>\n",
       "      <td>2.990</td>\n",
       "      <td>-3650.0</td>\n",
       "      <td>NaN</td>\n",
       "    </tr>\n",
       "  </tbody>\n",
       "</table>\n",
       "</div>"
      ],
      "text/plain": [
       "                 Ref        MeltComp  Pressure, GPa Temperature, c  \\\n",
       "0     Liu et al 2004          dacite            NaN            NaN   \n",
       "1   Lasne et al 2010   alkali basalt            NaN           1200   \n",
       "2   Zhang et al 1997        rhyolite            NaN        400-600   \n",
       "3     Hui et al 2008  rhyolite_highP            1.0        350-750   \n",
       "4      Ni et al 2009        andesite            0.1            NaN   \n",
       "5  Botcharnikov 2006  andesite_highT            NaN      1100-1300   \n",
       "\n",
       "  MeltH2O(WT)      a       b  (Eq. k2 = exp(a + b/T), T in K  \n",
       "0     1.5-2.5  1.490 -2634.0                             NaN  \n",
       "1      01-Jul  0.641 -2704.4                             NaN  \n",
       "2        ≤2.4  1.876 -3100.0                             NaN  \n",
       "3         NaN  1.804 -3090.0                             NaN  \n",
       "4         NaN  1.547 -2453.0                             NaN  \n",
       "5         NaN  2.990 -3650.0                             NaN  "
      ]
     },
     "execution_count": 42,
     "metadata": {},
     "output_type": "execute_result"
    }
   ],
   "source": [
    "wat_spe_m"
   ]
  },
  {
   "cell_type": "markdown",
   "metadata": {},
   "source": [
    "Switch cal_H2O to True if you would like to calculate melt water contents (default is False). \n",
    "This would pass through `meltH2O()` and return 8 results (following the order below): \n",
    "MeltWater calculated from F and Cl,  Kds for OH-Cl, OH-F, Cl-F, and activitivy coefficient (gamma) of OH, F, and Cl. "
   ]
  },
  {
   "cell_type": "code",
   "execution_count": 43,
   "metadata": {},
   "outputs": [],
   "source": [
    "## create a datafraje for saving results later\n",
    "results = pd.DataFrame(columns = {'MeltWater_F', 'MeltWater_Cl','Kd_OHCl', 'Kd_OHF', 'Kd_ClF', 'gammaOH', 'gammaF', 'gammaCl','sample'})"
   ]
  },
  {
   "cell_type": "code",
   "execution_count": 44,
   "metadata": {},
   "outputs": [
    {
     "data": {
      "text/html": [
       "<div>\n",
       "<style scoped>\n",
       "    .dataframe tbody tr th:only-of-type {\n",
       "        vertical-align: middle;\n",
       "    }\n",
       "\n",
       "    .dataframe tbody tr th {\n",
       "        vertical-align: top;\n",
       "    }\n",
       "\n",
       "    .dataframe thead th {\n",
       "        text-align: right;\n",
       "    }\n",
       "</style>\n",
       "<table border=\"1\" class=\"dataframe\">\n",
       "  <thead>\n",
       "    <tr style=\"text-align: right;\">\n",
       "      <th></th>\n",
       "      <th>sample</th>\n",
       "      <th>Kd_ClF</th>\n",
       "      <th>MeltWater_Cl</th>\n",
       "      <th>MeltWater_F</th>\n",
       "      <th>Kd_OHF</th>\n",
       "      <th>gammaF</th>\n",
       "      <th>gammaOH</th>\n",
       "      <th>gammaCl</th>\n",
       "      <th>Kd_OHCl</th>\n",
       "    </tr>\n",
       "  </thead>\n",
       "  <tbody>\n",
       "    <tr>\n",
       "      <th>0</th>\n",
       "      <td>Ap1</td>\n",
       "      <td>0.117668</td>\n",
       "      <td>2.288177</td>\n",
       "      <td>2.454759</td>\n",
       "      <td>0.010156</td>\n",
       "      <td>1.139724</td>\n",
       "      <td>1.257495</td>\n",
       "      <td>2.359545</td>\n",
       "      <td>0.086309</td>\n",
       "    </tr>\n",
       "    <tr>\n",
       "      <th>1</th>\n",
       "      <td>Ap2</td>\n",
       "      <td>0.111074</td>\n",
       "      <td>0.987179</td>\n",
       "      <td>0.943227</td>\n",
       "      <td>0.012871</td>\n",
       "      <td>1.078508</td>\n",
       "      <td>1.352988</td>\n",
       "      <td>2.572134</td>\n",
       "      <td>0.115878</td>\n",
       "    </tr>\n",
       "    <tr>\n",
       "      <th>2</th>\n",
       "      <td>Ap3</td>\n",
       "      <td>0.062026</td>\n",
       "      <td>1.145976</td>\n",
       "      <td>1.872257</td>\n",
       "      <td>0.003258</td>\n",
       "      <td>1.044885</td>\n",
       "      <td>1.569649</td>\n",
       "      <td>3.393650</td>\n",
       "      <td>0.052530</td>\n",
       "    </tr>\n",
       "  </tbody>\n",
       "</table>\n",
       "</div>"
      ],
      "text/plain": [
       "  sample    Kd_ClF  MeltWater_Cl  MeltWater_F    Kd_OHF    gammaF   gammaOH  \\\n",
       "0    Ap1  0.117668      2.288177     2.454759  0.010156  1.139724  1.257495   \n",
       "1    Ap2  0.111074      0.987179     0.943227  0.012871  1.078508  1.352988   \n",
       "2    Ap3  0.062026      1.145976     1.872257  0.003258  1.044885  1.569649   \n",
       "\n",
       "    gammaCl   Kd_OHCl  \n",
       "0  2.359545  0.086309  \n",
       "1  2.572134  0.115878  \n",
       "2  3.393650  0.052530  "
      ]
     },
     "execution_count": 44,
     "metadata": {},
     "output_type": "execute_result"
    }
   ],
   "source": [
    "# default: calculate Kd only\n",
    "list_kd_result = data.apply(lambda row: pyApthermo.ApThermo(inputs=row[order]).Kd(),axis=1)\n",
    "\n",
    "# user defined (example)\n",
    "list_result = data.apply(lambda row: pyApthermo.ApThermo(inputs=row[order],cal_H2O=True,cal_gamma=True).meltH2O(),axis=1)\n",
    "\n",
    "results['MeltWater_F'] = [x[0] for x in list_result]\n",
    "results['MeltWater_Cl'] = [x[1] for x in list_result]\n",
    "results['Kd_OHCl'] = [x[2] for x in list_result]\n",
    "results['Kd_OHF'] = [x[3] for x in list_result]\n",
    "results['Kd_ClF'] = [x[4] for x in list_result]\n",
    "results['gammaOH'] = [x[5] for x in list_result]\n",
    "results['gammaF'] = [x[6] for x in list_result]\n",
    "results['gammaCl'] = [x[7] for x in list_result]\n",
    "results['sample'] = df['sample']\n",
    "\n",
    "results"
   ]
  },
  {
   "cell_type": "markdown",
   "metadata": {},
   "source": [
    "### save results"
   ]
  },
  {
   "cell_type": "code",
   "execution_count": 45,
   "metadata": {},
   "outputs": [],
   "source": [
    "results.to_csv('water_estimates_no_error.csv')"
   ]
  },
  {
   "cell_type": "markdown",
   "metadata": {},
   "source": [
    "### 4. Error integration from monte carlo simulation (MCS)\n",
    "\n",
    "Below we give an example for MCS to integrate analytical errors from melt compositions, apatite composition, and temperature.\n",
    "\n",
    "First, set the entry of MCS (number of runs); better to be larger than 1000."
   ]
  },
  {
   "cell_type": "code",
   "execution_count": 46,
   "metadata": {},
   "outputs": [],
   "source": [
    "mc = 1000"
   ]
  },
  {
   "cell_type": "markdown",
   "metadata": {},
   "source": [
    "Create dataframe for collecting MCS results and extract raw data and their errors"
   ]
  },
  {
   "cell_type": "code",
   "execution_count": 47,
   "metadata": {},
   "outputs": [],
   "source": [
    "ap_mc_collect = pd.DataFrame([])\n",
    "comp = df[['XF', 'XCL', 'T,C', 'MELTF', 'MELTCL']]\n",
    "std = df[['XF_SD', 'XCL_SD', 'T_SD','MELTF_SD', 'MELTCL_SD']]"
   ]
  },
  {
   "cell_type": "markdown",
   "metadata": {},
   "source": [
    "MCS can be perfromed via a loop but that can be rather slow if the dataset is large. \n",
    "\n",
    "Here we use a built-in function `ap_mc()` to vectorize and expand the existing empty dataframe (\"ap_mc_collect\") with MCS results. \n",
    "\n",
    "Feel free to use your own MCS algorithm if you want. "
   ]
  },
  {
   "cell_type": "code",
   "execution_count": 48,
   "metadata": {},
   "outputs": [],
   "source": [
    "for idx in range(len(df)):\n",
    "    df_iter = ap_mc(comp, std, idx, mc)\n",
    "    ap_mc_collect = ap_mc_collect.append(df_iter)\n",
    "\n",
    "ap_mc_collect.columns = comp.columns\n",
    "ap_mc_collect['MELTCOMP'] = df.loc[df.index.repeat(mc)]['MELTCOMP']"
   ]
  },
  {
   "cell_type": "markdown",
   "metadata": {},
   "source": [
    "Apply the `meltH2O()` function to the expanded MCS dataframe. The melt water estimates are saved in the \"ap_mc_collect\" dataframe. \n",
    "\n",
    "Note that when MCS has a larger value, a runtime warning might appear."
   ]
  },
  {
   "cell_type": "code",
   "execution_count": 49,
   "metadata": {},
   "outputs": [
    {
     "name": "stderr",
     "output_type": "stream",
     "text": [
      "/Users/easonzz/miniforge3/lib/python3.9/site-packages/scipy/optimize/minpack.py:175: RuntimeWarning: The iteration is not making good progress, as measured by the \n",
      "  improvement from the last ten iterations.\n",
      "  warnings.warn(msg, RuntimeWarning)\n",
      "/Users/easonzz/miniforge3/lib/python3.9/site-packages/scipy/optimize/minpack.py:175: RuntimeWarning: The iteration is not making good progress, as measured by the \n",
      "  improvement from the last five Jacobian evaluations.\n",
      "  warnings.warn(msg, RuntimeWarning)\n"
     ]
    }
   ],
   "source": [
    "ap_mc_collect['zz'] = ap_mc_collect.apply(lambda row: pyApthermo.ApThermo(inputs=row[order], cal_H2O=True,cal_gamma=False).meltH2O(),axis=1)\n",
    "ap_mc_collect['sample'] = df.loc[df.index.repeat(mc)]['sample']\n",
    "\n",
    "results_mc = pd.DataFrame(columns=['MeltWater_F','MeltWater_Cl'])\n",
    "results_mc['MeltWater_F'] = [x[0] for x in ap_mc_collect['zz']]\n",
    "results_mc['MeltWater_Cl'] = [x[1] for x in ap_mc_collect['zz']]\n",
    "\n",
    "results_mc['sample'] = ap_mc_collect.reset_index()['sample']"
   ]
  },
  {
   "cell_type": "markdown",
   "metadata": {},
   "source": [
    "Display MCS results for each crystal"
   ]
  },
  {
   "cell_type": "code",
   "execution_count": 50,
   "metadata": {},
   "outputs": [
    {
     "data": {
      "text/html": [
       "<div>\n",
       "<style scoped>\n",
       "    .dataframe tbody tr th:only-of-type {\n",
       "        vertical-align: middle;\n",
       "    }\n",
       "\n",
       "    .dataframe tbody tr th {\n",
       "        vertical-align: top;\n",
       "    }\n",
       "\n",
       "    .dataframe thead tr th {\n",
       "        text-align: left;\n",
       "    }\n",
       "\n",
       "    .dataframe thead tr:last-of-type th {\n",
       "        text-align: right;\n",
       "    }\n",
       "</style>\n",
       "<table border=\"1\" class=\"dataframe\">\n",
       "  <thead>\n",
       "    <tr>\n",
       "      <th></th>\n",
       "      <th colspan=\"8\" halign=\"left\">MeltWater_F</th>\n",
       "      <th colspan=\"8\" halign=\"left\">MeltWater_Cl</th>\n",
       "    </tr>\n",
       "    <tr>\n",
       "      <th></th>\n",
       "      <th>count</th>\n",
       "      <th>mean</th>\n",
       "      <th>std</th>\n",
       "      <th>min</th>\n",
       "      <th>25%</th>\n",
       "      <th>50%</th>\n",
       "      <th>75%</th>\n",
       "      <th>max</th>\n",
       "      <th>count</th>\n",
       "      <th>mean</th>\n",
       "      <th>std</th>\n",
       "      <th>min</th>\n",
       "      <th>25%</th>\n",
       "      <th>50%</th>\n",
       "      <th>75%</th>\n",
       "      <th>max</th>\n",
       "    </tr>\n",
       "    <tr>\n",
       "      <th>sample</th>\n",
       "      <th></th>\n",
       "      <th></th>\n",
       "      <th></th>\n",
       "      <th></th>\n",
       "      <th></th>\n",
       "      <th></th>\n",
       "      <th></th>\n",
       "      <th></th>\n",
       "      <th></th>\n",
       "      <th></th>\n",
       "      <th></th>\n",
       "      <th></th>\n",
       "      <th></th>\n",
       "      <th></th>\n",
       "      <th></th>\n",
       "      <th></th>\n",
       "    </tr>\n",
       "  </thead>\n",
       "  <tbody>\n",
       "    <tr>\n",
       "      <th>Ap1</th>\n",
       "      <td>1000.0</td>\n",
       "      <td>2.632001</td>\n",
       "      <td>1.103110</td>\n",
       "      <td>6.661436e-01</td>\n",
       "      <td>1.845204</td>\n",
       "      <td>2.445361</td>\n",
       "      <td>3.179341</td>\n",
       "      <td>8.676760</td>\n",
       "      <td>1000.0</td>\n",
       "      <td>2.554121</td>\n",
       "      <td>1.322317</td>\n",
       "      <td>5.381545e-01</td>\n",
       "      <td>1.647385</td>\n",
       "      <td>2.277966</td>\n",
       "      <td>3.106162</td>\n",
       "      <td>11.479575</td>\n",
       "    </tr>\n",
       "    <tr>\n",
       "      <th>Ap2</th>\n",
       "      <td>1000.0</td>\n",
       "      <td>0.985690</td>\n",
       "      <td>0.409133</td>\n",
       "      <td>5.681841e-16</td>\n",
       "      <td>0.687214</td>\n",
       "      <td>0.929801</td>\n",
       "      <td>1.242427</td>\n",
       "      <td>2.823094</td>\n",
       "      <td>1000.0</td>\n",
       "      <td>1.073669</td>\n",
       "      <td>0.540902</td>\n",
       "      <td>5.681841e-16</td>\n",
       "      <td>0.685099</td>\n",
       "      <td>0.970699</td>\n",
       "      <td>1.373093</td>\n",
       "      <td>4.080361</td>\n",
       "    </tr>\n",
       "    <tr>\n",
       "      <th>Ap3</th>\n",
       "      <td>1000.0</td>\n",
       "      <td>2.479382</td>\n",
       "      <td>2.429334</td>\n",
       "      <td>-4.291673e-16</td>\n",
       "      <td>0.923830</td>\n",
       "      <td>1.910409</td>\n",
       "      <td>3.158331</td>\n",
       "      <td>28.383204</td>\n",
       "      <td>1000.0</td>\n",
       "      <td>1.556456</td>\n",
       "      <td>1.574228</td>\n",
       "      <td>-4.291673e-16</td>\n",
       "      <td>0.559018</td>\n",
       "      <td>1.169868</td>\n",
       "      <td>1.962888</td>\n",
       "      <td>17.020062</td>\n",
       "    </tr>\n",
       "  </tbody>\n",
       "</table>\n",
       "</div>"
      ],
      "text/plain": [
       "       MeltWater_F                                                        \\\n",
       "             count      mean       std           min       25%       50%   \n",
       "sample                                                                     \n",
       "Ap1         1000.0  2.632001  1.103110  6.661436e-01  1.845204  2.445361   \n",
       "Ap2         1000.0  0.985690  0.409133  5.681841e-16  0.687214  0.929801   \n",
       "Ap3         1000.0  2.479382  2.429334 -4.291673e-16  0.923830  1.910409   \n",
       "\n",
       "                            MeltWater_Cl                                    \\\n",
       "             75%        max        count      mean       std           min   \n",
       "sample                                                                       \n",
       "Ap1     3.179341   8.676760       1000.0  2.554121  1.322317  5.381545e-01   \n",
       "Ap2     1.242427   2.823094       1000.0  1.073669  0.540902  5.681841e-16   \n",
       "Ap3     3.158331  28.383204       1000.0  1.556456  1.574228 -4.291673e-16   \n",
       "\n",
       "                                                 \n",
       "             25%       50%       75%        max  \n",
       "sample                                           \n",
       "Ap1     1.647385  2.277966  3.106162  11.479575  \n",
       "Ap2     0.685099  0.970699  1.373093   4.080361  \n",
       "Ap3     0.559018  1.169868  1.962888  17.020062  "
      ]
     },
     "execution_count": 50,
     "metadata": {},
     "output_type": "execute_result"
    }
   ],
   "source": [
    "results_mc.groupby('sample').describe()"
   ]
  },
  {
   "cell_type": "markdown",
   "metadata": {},
   "source": [
    "Calculate the median value for each crystal. If the distribution of MCS results is (nearly) gaussian (see kernel density plot below), a mean value could be used instead of median."
   ]
  },
  {
   "cell_type": "code",
   "execution_count": 51,
   "metadata": {},
   "outputs": [
    {
     "data": {
      "text/html": [
       "<div>\n",
       "<style scoped>\n",
       "    .dataframe tbody tr th:only-of-type {\n",
       "        vertical-align: middle;\n",
       "    }\n",
       "\n",
       "    .dataframe tbody tr th {\n",
       "        vertical-align: top;\n",
       "    }\n",
       "\n",
       "    .dataframe thead th {\n",
       "        text-align: right;\n",
       "    }\n",
       "</style>\n",
       "<table border=\"1\" class=\"dataframe\">\n",
       "  <thead>\n",
       "    <tr style=\"text-align: right;\">\n",
       "      <th></th>\n",
       "      <th>MeltWater_F</th>\n",
       "      <th>MeltWater_Cl</th>\n",
       "    </tr>\n",
       "    <tr>\n",
       "      <th>sample</th>\n",
       "      <th></th>\n",
       "      <th></th>\n",
       "    </tr>\n",
       "  </thead>\n",
       "  <tbody>\n",
       "    <tr>\n",
       "      <th>Ap1</th>\n",
       "      <td>2.445361</td>\n",
       "      <td>2.277966</td>\n",
       "    </tr>\n",
       "    <tr>\n",
       "      <th>Ap2</th>\n",
       "      <td>0.929801</td>\n",
       "      <td>0.970699</td>\n",
       "    </tr>\n",
       "    <tr>\n",
       "      <th>Ap3</th>\n",
       "      <td>1.910409</td>\n",
       "      <td>1.169868</td>\n",
       "    </tr>\n",
       "  </tbody>\n",
       "</table>\n",
       "</div>"
      ],
      "text/plain": [
       "        MeltWater_F  MeltWater_Cl\n",
       "sample                           \n",
       "Ap1        2.445361      2.277966\n",
       "Ap2        0.929801      0.970699\n",
       "Ap3        1.910409      1.169868"
      ]
     },
     "execution_count": 51,
     "metadata": {},
     "output_type": "execute_result"
    }
   ],
   "source": [
    "results_mc.groupby('sample').median()"
   ]
  },
  {
   "cell_type": "markdown",
   "metadata": {},
   "source": [
    "plot MCS results"
   ]
  },
  {
   "cell_type": "code",
   "execution_count": 52,
   "metadata": {},
   "outputs": [
    {
     "data": {
      "image/png": "[encoded data removed]",
      "text/plain": [
       "<Figure size 648x288 with 2 Axes>"
      ]
     },
     "metadata": {
      "needs_background": "light"
     },
     "output_type": "display_data"
    }
   ],
   "source": [
    "fig, axes = plt.subplots(1, 2, figsize=(9,4), constrained_layout=True)\n",
    "\n",
    "sns.kdeplot(x = 'MeltWater_F', data=results_mc, hue='sample', ax = axes[0])\n",
    "sns.kdeplot(x = 'MeltWater_Cl', data=results_mc, hue='sample', ax = axes[1])\n",
    "\n",
    "plt.show()"
   ]
  },
  {
   "cell_type": "markdown",
   "metadata": {},
   "source": [
    "1sd errors in results can be calculated by taking half of the range between 84% and 16% of all MCS results. "
   ]
  },
  {
   "cell_type": "markdown",
   "metadata": {},
   "source": [
    "melt H<sub>2</sub>O estimated from Cl in the apatite"
   ]
  },
  {
   "cell_type": "code",
   "execution_count": 53,
   "metadata": {},
   "outputs": [
    {
     "name": "stdout",
     "output_type": "stream",
     "text": [
      "[1.07184908 0.49579611 1.13009846]\n"
     ]
    }
   ],
   "source": [
    "errors = results_mc.groupby('sample')['MeltWater_Cl'].transform(lambda s: (np.percentile(s, 84)-np.percentile(s, 16))/2).unique()\n",
    "print(errors)\n",
    "for ii in list(results_mc['sample']):\n",
    "    if len(list(results_mc['sample']))<50:\n",
    "        print(results_mc['sample'][ii],errors[ii])"
   ]
  },
  {
   "cell_type": "markdown",
   "metadata": {},
   "source": [
    "melt H<sub>2</sub>O calculated from F in apatite"
   ]
  },
  {
   "cell_type": "code",
   "execution_count": 54,
   "metadata": {},
   "outputs": [
    {
     "name": "stdout",
     "output_type": "stream",
     "text": [
      "[0.97121202 0.39684486 1.78556349]\n"
     ]
    }
   ],
   "source": [
    "errors = results_mc.groupby('sample')['MeltWater_F'].transform(lambda s: (np.percentile(s, 84)-np.percentile(s, 16))/2).unique()\n",
    "print(errors)\n",
    "for ii in list(results_mc['sample']):\n",
    "    if len(list(results_mc['sample']))<50:\n",
    "        print(results_mc['sample'][ii],errors[ii])"
   ]
  }
 ],
 "metadata": {
  "interpreter": {
   "hash": "dbfc26f88d4be79d14d7fd08a335d9cb9196b9d1da0cd3f4e161d45a5650b80a"
  },
  "kernelspec": {
   "display_name": "Python 3.9.6 64-bit ('base': conda)",
   "language": "python",
   "name": "python3"
  },
  "language_info": {
   "codemirror_mode": {
    "name": "ipython",
    "version": 3
   },
   "file_extension": ".py",
   "mimetype": "text/x-python",
   "name": "python",
   "nbconvert_exporter": "python",
   "pygments_lexer": "ipython3",
   "version": "3.9.6"
  }
 },
 "nbformat": 4,
 "nbformat_minor": 2
}
